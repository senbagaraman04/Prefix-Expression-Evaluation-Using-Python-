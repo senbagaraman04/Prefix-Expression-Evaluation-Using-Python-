{
 "cells": [
  {
   "cell_type": "markdown",
   "metadata": {},
   "source": [
    "# Prefix Expression"
   ]
  },
  {
   "cell_type": "markdown",
   "metadata": {},
   "source": [
    "Problem:\n",
    "You are given a prefix expression. Write a program to evaluate it. Your program should accept as its first argument a path to a filename. The file contains one prefix expression per line. \n",
    " \n",
    "INPUT SAMPLE:\n",
    " \n",
    "1\n",
    "* + 2 3 4\n",
    " \n",
    "Your program has to read this and insert it into any data structure you like. Traverse that data structure and evaluate the prefix expression. Each token is delimited by a whitespace. You may assume that the only valid operators appearing in test data are '+','*' and '/'(floating-point division). Please include unit tests that demonstrate how your code works. \n",
    " \n",
    "Please zip the contents of your solution named: `prefix-{!lastname}.zip`\n",
    " \n",
    "OUTPUT SAMPLE:\n",
    " \n",
    "Print to stdout, the output of the prefix expression, one per line. E.g.\n",
    " \n",
    "1\n",
    "20\n",
    " \n",
    "Constraints: \n",
    "The evaluation result will always be an integer >= 0. \n",
    "The number of the test cases is <= 40."
   ]
  },
  {
   "cell_type": "code",
   "execution_count": 6,
   "metadata": {
    "collapsed": false
   },
   "outputs": [
    {
     "name": "stdout",
     "output_type": "stream",
     "text": [
      "Enter The File Name (Give it in quotes if using python 2) : pretest.txt\n",
      "10\n",
      "\n",
      "30.0\n",
      "45.0\n",
      "8.0\n",
      "2.0\n",
      "The result is less than zero\n",
      "4.0\n",
      "5.0\n",
      "4.5\n",
      "11.0\n",
      "8.0\n"
     ]
    }
   ],
   "source": [
    "#################################Code###########################\n",
    "\n",
    "\n",
    "## Defining the function prefix\n",
    "def prefix(line):\n",
    "    \n",
    "    ## Split the elements passed into the function separated by whitespace\n",
    "    l =\"\".join(line.rstrip())\n",
    "    strArr = l.split(\" \")\n",
    "    \n",
    "    ## Initializing symbols and numbers list\n",
    "    symbols = []\n",
    "    numbers = []\n",
    "    \n",
    "    ## Iterating the values of i from 0 to (length of String passed - 1)\n",
    "    for i in range(0, len(strArr)):\n",
    "        \n",
    "        ## Check if the element is an integer both positive and negative\n",
    "        ## Conditions strip - sign if is present and check if the element is numeric\n",
    "        if(strArr[i].lstrip(\"-\").isdigit()):\n",
    "            \n",
    "            ## Add the number as the last and latest element in numbers list\n",
    "            numbers.append(strArr[i])\n",
    "            \n",
    "            ## Check if the previous element is an integer both positive and negative\n",
    "            ## Conditions strip - sign if is present and check if the element is numeric\n",
    "            if( strArr[i-1].lstrip(\"-\").isdigit()):\n",
    "                \n",
    "                ## Check for the condition if the length of the number is not equal\n",
    "                while( len(numbers) != 1 ):\n",
    "                    \n",
    "                    ## Take the last and latest value with the help of pop function\n",
    "                    secondVal = float(numbers.pop())\n",
    "                    firstVal = float(numbers.pop())\n",
    "                    \n",
    "                    ## Intialize the calculateVal\n",
    "                    calculateVal = 0\n",
    "                    \n",
    "                    ## Take the latest and last value from the symbols list\n",
    "                    symbol = symbols.pop()\n",
    "                    \n",
    "                    ## Check if the symbol is plus and perform the addition if the condition is true\n",
    "                    if( symbol == '+' ):\n",
    "                        calculateVal = firstVal + secondVal\n",
    "                    \n",
    "                    ## Check if the symbol is cross and perform the multiplication if the condition is true\n",
    "                    elif( symbol == '*' ):\n",
    "                        calculateVal = firstVal * secondVal\n",
    "                        \n",
    "                    ## Check if the symbol is divide and perform the division if the condition is true\n",
    "                    elif( symbol == '/' ):\n",
    "                        calculateVal = float(secondVal / firstVal)\n",
    "                        \n",
    "                    ## Add the calculated value to numbers list(add it as last and latest)\n",
    "                    numbers.append(calculateVal)\n",
    "        \n",
    "        ## If the number is not numeric, it passes through else\n",
    "        else:\n",
    "            \n",
    "            ## Add the symbol to symbols list as last and latest element\n",
    "            symbols.append(strArr[i])\n",
    "    \n",
    "    ## Add the final result as the last and latest element in the numbers list\n",
    "    result = numbers.pop()\n",
    "    \n",
    "    ## Contraint is checked if the result is greater than or equal to 0 and print the result\n",
    "    if (float(result) >= 0):\n",
    "        print(result)\n",
    "        \n",
    "    ## If the result is less than zero, then \"The result is less than zero\" will be printed\n",
    "    else:\n",
    "        print(\"The result is less than zero\")\n",
    "\n",
    "\n",
    "## Intializing i = 1\n",
    "i = 1\n",
    "\n",
    "## Manually asking the user for input\n",
    "filename = input('Enter The File Name (Give it in quotes if using python 2) : ')\n",
    "\n",
    "## Read the file \n",
    "for line in open(filename,\"r\").readlines():\n",
    "    \n",
    "    ##If it is the first line, print the number of lines to follow\n",
    "    if i == 1:\n",
    "        print (line)\n",
    "        i += 1\n",
    "    \n",
    "    ## Pass the lines from second to the function prefix one after other\n",
    "    elif i <= 40:\n",
    "        prefix(line)\n",
    "        i += 1"
   ]
  },
  {
   "cell_type": "markdown",
   "metadata": {},
   "source": [
    "Input test case"
   ]
  },
  {
   "cell_type": "code",
   "execution_count": 2,
   "metadata": {
    "collapsed": false
   },
   "outputs": [
    {
     "name": "stdout",
     "output_type": "stream",
     "text": [
      "            10\n",
      "0    * + 2 4 5\n",
      "1    * 3 * 3 5\n",
      "2   + 3 + -2 7\n",
      "3    / 2 * 2 2\n",
      "4  + 7 * 4 -3 \n",
      "5   / / 2 8 16\n",
      "6    * 3 / 3 5\n",
      "7    * / 2 3 3\n",
      "8    + 2 * 3 3\n",
      "9  + 2 * -2 -3\n"
     ]
    }
   ],
   "source": [
    "import pandas\n",
    "\n",
    "text = pandas.read_csv(\"pretest.txt\")\n",
    "print (text)"
   ]
  },
  {
   "cell_type": "code",
   "execution_count": null,
   "metadata": {
    "collapsed": true
   },
   "outputs": [],
   "source": []
  }
 ],
 "metadata": {
  "kernelspec": {
   "display_name": "Python 3",
   "language": "python",
   "name": "python3"
  },
  "language_info": {
   "codemirror_mode": {
    "name": "ipython",
    "version": 3
   },
   "file_extension": ".py",
   "mimetype": "text/x-python",
   "name": "python",
   "nbconvert_exporter": "python",
   "pygments_lexer": "ipython3",
   "version": "3.5.2"
  }
 },
 "nbformat": 4,
 "nbformat_minor": 2
}
